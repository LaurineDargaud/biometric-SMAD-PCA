{
 "cells": [
  {
   "cell_type": "markdown",
   "id": "39d46314",
   "metadata": {},
   "source": [
    "# Notebook I - Data Preprocessing & LBP\n",
    "Laurine Dargaud, June 2022 (Biometric Systems, DTU course)"
   ]
  },
  {
   "cell_type": "markdown",
   "id": "480cb978",
   "metadata": {},
   "source": [
    "**Topic: Face Morphing Attack Detection**"
   ]
  },
  {
   "cell_type": "markdown",
   "id": "e25a1fe3",
   "metadata": {},
   "source": [
    "## Parameters"
   ]
  },
  {
   "cell_type": "markdown",
   "id": "5e5ce2cc",
   "metadata": {},
   "source": [
    "**Parameters to fill in**\n",
    "- final dimensions in pixels of preprocessed face images (`_IMAGE_HEIGHT_`and `_IMAGE_WIDTH_`)\n",
    "- two paths where we can find Bona Fine and Morphs raw data to preprocess  (`_BF_PATH_`and `_MORPH_PATH_`)\n",
    "- names of the database and morphing algorithm (`_DATABASE_` and `_MORPHING_ALGO`).\n",
    "\n",
    "**Pre-requisites**\n",
    "- Preprocessed images will be saved in `_BF_TARGET_PATH` and `_MORPH_TARGET_PATH`. Change them if your directory structure is different, and make sure these paths point to existing empty directories.\n",
    "- Make sure that `data/{_DATABASE_}-Processed/bona-fide-lpb-<color>comp-cropped` and `data/{_DATABASE_}-Processed/morphed-{_MORPHING_ALGO_}-lpb-<color>comp-cropped` repositories exist for each color channel (6 empty directories to create)."
   ]
  },
  {
   "cell_type": "code",
   "execution_count": 1,
   "id": "9b4fdec6",
   "metadata": {},
   "outputs": [],
   "source": [
    "_IMAGE_HEIGHT_ = _IMAGE_WIDTH_ = 500\n",
    "\n",
    "# Paths where we can find the raw data\n",
    "_BF_PATH_ = 'data/HDA_Morphing_DB_subset/FRGC/bonafide/'\n",
    "_MORPH_PATH_ = 'data/HDA_Morphing_DB_subset/FRGC/morphs_facemorpher/'\n",
    "\n",
    "# Infos about the dataset\n",
    "_DATABASE_ = 'FRGCsub'\n",
    "_MORPHING_ALGO_ = 'facemorpher'\n",
    "\n",
    "# Target paths auto-generation\n",
    "_BF_TARGET_PATH_ = f'data/{_DATABASE_}-Processed/bona-fide/'\n",
    "_MORPH_TARGET_PATH = f'data/{_DATABASE_}-Processed/morphed-{_MORPHING_ALGO_}/'"
   ]
  },
  {
   "cell_type": "markdown",
   "id": "2e23ee3b",
   "metadata": {},
   "source": [
    "## Phase 1 - Detect, align and crop faces"
   ]
  },
  {
   "cell_type": "markdown",
   "id": "08818245",
   "metadata": {},
   "source": [
    "We use DeepFace library for this purpose (https://github.com/serengil/deepface)."
   ]
  },
  {
   "cell_type": "markdown",
   "id": "49cb0efb",
   "metadata": {},
   "source": [
    "### Imports & Methods"
   ]
  },
  {
   "cell_type": "code",
   "execution_count": 2,
   "id": "fd54493c",
   "metadata": {},
   "outputs": [],
   "source": [
    "from deepface import DeepFace\n",
    "import matplotlib.pyplot as plt\n",
    "import cv2\n",
    "\n",
    "from os import listdir\n",
    "from os.path import isfile, join, isdir\n",
    "\n",
    "import random\n",
    "from tqdm import tqdm\n",
    "\n",
    "from lpb import main as Lpb\n",
    "\n",
    "def process_faces(aType, H = _IMAGE_HEIGHT_, W = _IMAGE_WIDTH_, detector_backend = 'dlib'):\n",
    "    if aType == 'bf':\n",
    "        path = _BF_PATH_\n",
    "        target_path = _BF_TARGET_PATH_\n",
    "    elif aType == 'morphed':\n",
    "        path = _MORPH_PATH_\n",
    "        target_path = _MORPH_TARGET_PATH\n",
    "    else:\n",
    "        return None\n",
    "    filenames = [f for f in listdir(path) if isfile(join(path, f))]\n",
    "    N = len(filenames)\n",
    "    print(f\"[{aType}] We found {N} images in '{path}'\")\n",
    "    for k in tqdm(range (N)):\n",
    "        # read image\n",
    "        img_path = path+filenames[k]\n",
    "        # detect and align face with DeepFace\n",
    "        img = DeepFace.detectFace(img_path = img_path, target_size = (H,W), detector_backend=detector_backend)\n",
    "        img = img * 255\n",
    "        # normalization\n",
    "        img = cv2.normalize(img,  None, alpha=0, beta=255, norm_type=cv2.NORM_MINMAX)\n",
    "        # save processed picture\n",
    "        cv2.imwrite(target_path+filenames[k], img[:, :, ::-1])"
   ]
  },
  {
   "cell_type": "markdown",
   "id": "8982023d",
   "metadata": {},
   "source": [
    "### MAIN to run"
   ]
  },
  {
   "cell_type": "code",
   "execution_count": 4,
   "id": "501ab479",
   "metadata": {},
   "outputs": [
    {
     "name": "stdout",
     "output_type": "stream",
     "text": [
      "[Morphed faces] We found 964 images in 'data/HDA_Morphing_DB_subset/FRGC/morphs_facemorpher/'\n"
     ]
    }
   ],
   "source": [
    "# load real pics\n",
    "bf_filenames = [f for f in listdir(_BF_PATH_) if isfile(join(_BF_PATH_, f))]\n",
    "bf_len = len(bf_filenames)\n",
    "print(f\"[Bona Fide] We found {bf_len} images in '{_BF_PATH_}'\")\n",
    "\n",
    "# load morphed pics\n",
    "m_filenames = [f for f in listdir(_MORPH_PATH_) if isfile(join(_MORPH_PATH_, f))]\n",
    "m_len = len(m_filenames)\n",
    "print(f\"[Morphed faces] We found {m_len} images in '{_MORPH_PATH_}'\")"
   ]
  },
  {
   "cell_type": "code",
   "execution_count": 5,
   "id": "5833ee72",
   "metadata": {},
   "outputs": [
    {
     "name": "stdout",
     "output_type": "stream",
     "text": [
      "== DETECTING FACE & CROPPING FOR MORPHED IMAGES ==\n",
      "[morphed] We found 964 images in 'data/HDA_Morphing_DB_subset/FRGC/morphs_facemorpher/'\n"
     ]
    },
    {
     "name": "stderr",
     "output_type": "stream",
     "text": [
      "100%|██████████| 964/964 [12:17<00:00,  1.31it/s]\n"
     ]
    }
   ],
   "source": [
    "# detect, align and crop BF faces\n",
    "print('== DETECTING FACE & CROPPING FOR BONA FIDE IMAGES ==')\n",
    "process_faces('bf')\n",
    "\n",
    "# detect, align and crop Morphed faces\n",
    "print('== DETECTING FACE & CROPPING FOR MORPHED IMAGES ==')\n",
    "process_faces('morphed')"
   ]
  },
  {
   "cell_type": "markdown",
   "id": "e4f1708b",
   "metadata": {},
   "source": [
    "## Phase 2 - Generate LPB features for R, G and B color channels"
   ]
  },
  {
   "cell_type": "markdown",
   "id": "8b4919bf",
   "metadata": {},
   "source": [
    "### Imports & Methods"
   ]
  },
  {
   "cell_type": "code",
   "execution_count": 6,
   "id": "b8bb3eaa",
   "metadata": {},
   "outputs": [],
   "source": [
    "def apply_transformation(filenames, transformationFct, target_path = None, wantReturn = False):\n",
    "    result = []\n",
    "    all_processed_files = [f for f in listdir(target_path) if isfile(join(target_path, f))]\n",
    "    for anImagePath in tqdm(filenames):\n",
    "        filename = anImagePath.split('/')[-1]\n",
    "        if filename not in all_processed_files:\n",
    "            transformed_img = transformationFct(anImagePath)\n",
    "            if wantReturn:\n",
    "                result.append(transformed_img)\n",
    "            else:\n",
    "                # save transformed image\n",
    "                cv2.imwrite(target_path+filename, transformed_img)\n",
    "    if wantReturn:\n",
    "        return result\n",
    "\n",
    "def get_LPB(aFileName, colorTransformation=None, channel=None):\n",
    "    img = cv2.imread(aFileName)\n",
    "    if (img.shape[0] != _IMAGE_HEIGHT_) or (img.shape[1] != _IMAGE_WIDTH_):\n",
    "        img = cv2.resize(img, (_IMAGE_HEIGHT_,_IMAGE_WIDTH_))\n",
    "    if colorTransformation != None:\n",
    "        img = cv2.cvtColor(img, colorTransformation)\n",
    "    if channel != None:\n",
    "        return Lpb(img[:,:,channel], isGray=True)\n",
    "    return Lpb(img)\n",
    "\n",
    "def get_LPB_Rcomp(aFileName):\n",
    "    return get_LPB(aFileName, cv2.COLOR_BGR2RGB, 0)\n",
    "\n",
    "def get_LPB_Gcomp(aFileName):\n",
    "    return get_LPB(aFileName, cv2.COLOR_BGR2RGB, 1)\n",
    "\n",
    "def get_LPB_Bcomp(aFileName):\n",
    "    return get_LPB(aFileName, cv2.COLOR_BGR2RGB, 2)\n",
    "\n",
    "def generate_LPB_on_RGB_separated(processBF = True, processM = True):\n",
    "    # R color channel processing\n",
    "    print('Generating: LPB for R color channel...')\n",
    "    _TARGET_SUFFIX_ = 'lpb-Rcomp-cropped'\n",
    "    if processBF:\n",
    "        _BF_TARGET_PATH_ = f'data/{_DATABASE_}-Processed/bona-fide-{_TARGET_SUFFIX_}/'\n",
    "        apply_transformation(bf_filenames, get_LPB_Rcomp, _BF_TARGET_PATH_)\n",
    "    if processM:\n",
    "        _MORPH_TARGET_PATH = f'data/{_DATABASE_}-Processed/morphed-{_MORPHING_ALGO_}-{_TARGET_SUFFIX_}/'\n",
    "        apply_transformation(m_filenames, get_LPB_Rcomp, _MORPH_TARGET_PATH)  \n",
    "\n",
    "    #G color channel processing\n",
    "    print('Generating: LPB for G color channel...')\n",
    "    _TARGET_SUFFIX_ = 'lpb-Gcomp-cropped'\n",
    "    if processBF:\n",
    "        _BF_TARGET_PATH_ = f'data/{_DATABASE_}-Processed/bona-fide-{_TARGET_SUFFIX_}/'\n",
    "        apply_transformation(bf_filenames, get_LPB_Gcomp, _BF_TARGET_PATH_)\n",
    "    if processM:\n",
    "        _MORPH_TARGET_PATH = f'data/{_DATABASE_}-Processed/morphed-{_MORPHING_ALGO_}-{_TARGET_SUFFIX_}/'\n",
    "        apply_transformation(m_filenames, get_LPB_Gcomp, _MORPH_TARGET_PATH)  \n",
    "\n",
    "    #B color channel processing\n",
    "    print('Generating: LPB for B color channel...')\n",
    "    _TARGET_SUFFIX_ = 'lpb-Bcomp-cropped'\n",
    "    if processBF:\n",
    "        _BF_TARGET_PATH_ = f'data/{_DATABASE_}-Processed/bona-fide-{_TARGET_SUFFIX_}/'\n",
    "        apply_transformation(bf_filenames, get_LPB_Bcomp, _BF_TARGET_PATH_)\n",
    "    if processM:\n",
    "        _MORPH_TARGET_PATH = f'data/{_DATABASE_}-Processed/morphed-{_MORPHING_ALGO_}-{_TARGET_SUFFIX_}/'\n",
    "        apply_transformation(m_filenames, get_LPB_Bcomp, _MORPH_TARGET_PATH)"
   ]
  },
  {
   "cell_type": "markdown",
   "id": "d6ffb187",
   "metadata": {},
   "source": [
    "### MAIN to run"
   ]
  },
  {
   "cell_type": "code",
   "execution_count": 7,
   "id": "19b1b825",
   "metadata": {},
   "outputs": [
    {
     "name": "stdout",
     "output_type": "stream",
     "text": [
      "Number of Morphed pictures:  964\n"
     ]
    }
   ],
   "source": [
    "# load pics\n",
    "bf_filenames = [_BF_TARGET_PATH_+f for f in listdir(_BF_TARGET_PATH_) if isfile(join(_BF_TARGET_PATH_, f))]\n",
    "m_filenames = [_MORPH_TARGET_PATH+f for f in listdir(_MORPH_TARGET_PATH) if isfile(join(_MORPH_TARGET_PATH, f))]\n",
    "print('Number of Bona Fide pictures: ', len(bf_filenames))\n",
    "print('Number of Morphed pictures: ', len(m_filenames))"
   ]
  },
  {
   "cell_type": "code",
   "execution_count": 8,
   "id": "3d345663",
   "metadata": {},
   "outputs": [
    {
     "name": "stdout",
     "output_type": "stream",
     "text": [
      "Generating: LPB for R color channel...\n"
     ]
    },
    {
     "name": "stderr",
     "output_type": "stream",
     "text": [
      "100%|██████████| 964/964 [00:00<00:00, 107118.88it/s]\n"
     ]
    },
    {
     "name": "stdout",
     "output_type": "stream",
     "text": [
      "Generating: LPB for G color channel...\n"
     ]
    },
    {
     "name": "stderr",
     "output_type": "stream",
     "text": [
      "100%|██████████| 964/964 [00:00<00:00, 107002.65it/s]\n"
     ]
    },
    {
     "name": "stdout",
     "output_type": "stream",
     "text": [
      "Generating: LPB for B color channel...\n"
     ]
    },
    {
     "name": "stderr",
     "output_type": "stream",
     "text": [
      "100%|██████████| 964/964 [00:00<00:00, 85136.63it/s]\n"
     ]
    }
   ],
   "source": [
    "generate_LPB_on_RGB_separated()"
   ]
  },
  {
   "cell_type": "markdown",
   "id": "56b0a206",
   "metadata": {},
   "source": [
    "# THE END."
   ]
  }
 ],
 "metadata": {
  "kernelspec": {
   "display_name": "Python 3 (ipykernel)",
   "language": "python",
   "name": "python3"
  },
  "language_info": {
   "codemirror_mode": {
    "name": "ipython",
    "version": 3
   },
   "file_extension": ".py",
   "mimetype": "text/x-python",
   "name": "python",
   "nbconvert_exporter": "python",
   "pygments_lexer": "ipython3",
   "version": "3.8.8"
  },
  "vscode": {
   "interpreter": {
    "hash": "7aba650e4e4cdf977e9b636a98ce7bd2ae2a481c812706118f76d2aa4226ce07"
   }
  }
 },
 "nbformat": 4,
 "nbformat_minor": 5
}
